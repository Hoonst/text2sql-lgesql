{
 "cells": [
  {
   "cell_type": "code",
   "execution_count": 9,
   "metadata": {},
   "outputs": [],
   "source": [
    "import dgl\n",
    "import torch\n",
    "from dgl import LineGraph"
   ]
  },
  {
   "cell_type": "code",
   "execution_count": 10,
   "metadata": {},
   "outputs": [
    {
     "name": "stdout",
     "output_type": "stream",
     "text": [
      "Graph(num_nodes=3, num_edges=3,\n",
      "      ndata_schemes={'w': Scheme(shape=(1,), dtype=torch.float32)}\n",
      "      edata_schemes={})\n",
      "(tensor([0, 0, 1]), tensor([1, 2, 0]))\n"
     ]
    }
   ],
   "source": [
    "transform = LineGraph()\n",
    "g = dgl.graph(([0, 1, 1], [1, 0, 2]))\n",
    "g.ndata['h'] = torch.tensor([[0.], [1.], [2.]])\n",
    "g.edata['w'] = torch.tensor([[0.], [0.1], [0.2]])\n",
    "new_g = transform(g)\n",
    "print(new_g)\n",
    "print(new_g.edges())"
   ]
  },
  {
   "cell_type": "code",
   "execution_count": 27,
   "metadata": {},
   "outputs": [
    {
     "data": {
      "text/plain": [
       "{'w': tensor([[0.0000],\n",
       "        [0.1000],\n",
       "        [0.2000]])}"
      ]
     },
     "execution_count": 27,
     "metadata": {},
     "output_type": "execute_result"
    }
   ],
   "source": [
    "new_g.srcdata"
   ]
  },
  {
   "cell_type": "code",
   "execution_count": 28,
   "metadata": {},
   "outputs": [
    {
     "data": {
      "text/plain": [
       "{'w': tensor([[0.0000],\n",
       "        [0.1000],\n",
       "        [0.2000]])}"
      ]
     },
     "execution_count": 28,
     "metadata": {},
     "output_type": "execute_result"
    }
   ],
   "source": [
    "new_g.dstdata"
   ]
  },
  {
   "cell_type": "code",
   "execution_count": 32,
   "metadata": {},
   "outputs": [
    {
     "data": {
      "text/plain": [
       "tensor(indices=tensor([[0, 1, 1],\n",
       "                       [1, 0, 2]]),\n",
       "       values=tensor([1., 1., 1.]),\n",
       "       size=(3, 3), nnz=3, layout=torch.sparse_coo)"
      ]
     },
     "execution_count": 32,
     "metadata": {},
     "output_type": "execute_result"
    }
   ],
   "source": [
    "g.adj()"
   ]
  },
  {
   "cell_type": "code",
   "execution_count": 30,
   "metadata": {},
   "outputs": [
    {
     "data": {
      "text/plain": [
       "tensor(indices=tensor([[0, 0, 1],\n",
       "                       [1, 2, 0]]),\n",
       "       values=tensor([1., 1., 1.]),\n",
       "       size=(3, 3), nnz=3, layout=torch.sparse_coo)"
      ]
     },
     "execution_count": 30,
     "metadata": {},
     "output_type": "execute_result"
    }
   ],
   "source": [
    "new_g.adj()"
   ]
  },
  {
   "cell_type": "code",
   "execution_count": 31,
   "metadata": {},
   "outputs": [
    {
     "data": {
      "text/plain": [
       "tensor(indices=tensor([[0, 1, 1],\n",
       "                       [1, 0, 2]]),\n",
       "       values=tensor([1., 1., 1.]),\n",
       "       size=(3, 3), nnz=3, layout=torch.sparse_coo)"
      ]
     },
     "execution_count": 31,
     "metadata": {},
     "output_type": "execute_result"
    }
   ],
   "source": []
  },
  {
   "cell_type": "code",
   "execution_count": null,
   "metadata": {},
   "outputs": [],
   "source": []
  }
 ],
 "metadata": {
  "kernelspec": {
   "display_name": "Python 3.6.9 64-bit",
   "language": "python",
   "name": "python3"
  },
  "language_info": {
   "codemirror_mode": {
    "name": "ipython",
    "version": 3
   },
   "file_extension": ".py",
   "mimetype": "text/x-python",
   "name": "python",
   "nbconvert_exporter": "python",
   "pygments_lexer": "ipython3",
   "version": "3.6.9"
  },
  "orig_nbformat": 4,
  "vscode": {
   "interpreter": {
    "hash": "31f2aee4e71d21fbe5cf8b01ff0e069b9275f58929596ceb00d14d90e3e16cd6"
   }
  }
 },
 "nbformat": 4,
 "nbformat_minor": 2
}
