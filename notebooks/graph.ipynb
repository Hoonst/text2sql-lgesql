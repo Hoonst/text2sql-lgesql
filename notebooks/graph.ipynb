{
 "cells": [
  {
   "cell_type": "code",
   "execution_count": 1,
   "metadata": {},
   "outputs": [],
   "source": [
    "import sys, os, time, json, gc\n",
    "\n",
    "from argparse import Namespace\n",
    "from utils.args import init_args\n",
    "from utils.hyperparams import hyperparam_path\n",
    "from utils.initialization import *\n",
    "from utils.example import Example\n",
    "from utils.batch import Batch\n",
    "from utils.optimization import set_optimizer\n",
    "from model.model_utils import Registrable\n",
    "from model.model_constructor import *\n",
    "\n",
    "from torch.utils.data import DataLoader, Dataset\n",
    "from torch.utils.data.distributed import DistributedSampler"
   ]
  },
  {
   "cell_type": "code",
   "execution_count": 2,
   "metadata": {},
   "outputs": [],
   "source": [
    "class collator(object):\n",
    "    def __init__(self, device, train, smoothing = 0):\n",
    "        self.device = device\n",
    "        self.train = train\n",
    "        self.smoothing = smoothing\n",
    "     \n",
    "    def __call__(self, batch):\n",
    "        if self.smoothing:\n",
    "            batched = Batch.from_example_list(batch, self.device, train=self.train, smoothing=self.smoothing)\n",
    "        else:\n",
    "            batched = Batch.from_example_list(batch, self.device, train=self.train)\n",
    "        return batched"
   ]
  },
  {
   "cell_type": "code",
   "execution_count": 4,
   "metadata": {},
   "outputs": [
    {
     "name": "stdout",
     "output_type": "stream",
     "text": [
      "Skip 0 extremely large samples in training dataset ...\n"
     ]
    }
   ],
   "source": [
    "Example.configuration(plm='google/electra-large-discriminator', method='lgesql')\n",
    "train_dataset, dev_dataset = Example.load_dataset('train'), Example.load_dataset('dev')"
   ]
  },
  {
   "cell_type": "code",
   "execution_count": null,
   "metadata": {},
   "outputs": [],
   "source": [
    "c = collator(device = 'cpu', train=False)"
   ]
  },
  {
   "cell_type": "code",
   "execution_count": null,
   "metadata": {},
   "outputs": [],
   "source": [
    "dev_loader = DataLoader(dev_dataset, batch_size = 20, collate_fn=c)"
   ]
  },
  {
   "cell_type": "code",
   "execution_count": null,
   "metadata": {},
   "outputs": [],
   "source": [
    "a = next(iter(dev_loader))"
   ]
  }
 ],
 "metadata": {
  "kernelspec": {
   "display_name": "Python 3 (ipykernel)",
   "language": "python",
   "name": "python3"
  },
  "language_info": {
   "codemirror_mode": {
    "name": "ipython",
    "version": 3
   },
   "file_extension": ".py",
   "mimetype": "text/x-python",
   "name": "python",
   "nbconvert_exporter": "python",
   "pygments_lexer": "ipython3",
   "version": "3.7.11"
  },
  "orig_nbformat": 4
 },
 "nbformat": 4,
 "nbformat_minor": 2
}
