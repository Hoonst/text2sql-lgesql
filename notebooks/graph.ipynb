{
 "cells": [
  {
   "cell_type": "code",
   "execution_count": 1,
   "metadata": {},
   "outputs": [],
   "source": [
    "import sys, os, time, json, gc\n",
    "\n",
    "from argparse import Namespace\n",
    "from utils.args import init_args\n",
    "from utils.hyperparams import hyperparam_path\n",
    "from utils.initialization import *\n",
    "from utils.example import Example\n",
    "from utils.batch import Batch\n",
    "from utils.optimization import set_optimizer\n",
    "from model.model_utils import Registrable\n",
    "from model.model_constructor import *\n",
    "\n",
    "from torch.utils.data import DataLoader, Dataset\n",
    "from torch.utils.data.distributed import DistributedSampler"
   ]
  },
  {
   "cell_type": "code",
   "execution_count": 2,
   "metadata": {},
   "outputs": [],
   "source": [
    "class collator(object):\n",
    "    def __init__(self, device, train, smoothing = 0):\n",
    "        self.device = device\n",
    "        self.train = train\n",
    "        self.smoothing = smoothing\n",
    "     \n",
    "    def __call__(self, batch):\n",
    "        if self.smoothing:\n",
    "            batched = Batch.from_example_list(batch, self.device, train=self.train, smoothing=self.smoothing)\n",
    "        else:\n",
    "            batched = Batch.from_example_list(batch, self.device, train=self.train)\n",
    "        return batched"
   ]
  },
  {
   "cell_type": "code",
   "execution_count": 4,
   "metadata": {},
   "outputs": [
    {
     "name": "stdout",
     "output_type": "stream",
     "text": [
      "Skip 0 extremely large samples in training dataset ...\n"
     ]
    }
   ],
   "source": [
    "Example.configuration(plm='google/electra-large-discriminator', method='lgesql')\n",
    "train_dataset, dev_dataset = Example.load_dataset('train'), Example.load_dataset('dev')"
   ]
  },
  {
   "cell_type": "code",
   "execution_count": 5,
   "metadata": {},
   "outputs": [],
   "source": [
    "c = collator(device = 'cpu', train=False)"
   ]
  },
  {
   "cell_type": "code",
   "execution_count": 6,
   "metadata": {},
   "outputs": [],
   "source": [
    "dev_loader = DataLoader(dev_dataset, batch_size = 20, collate_fn=c)"
   ]
  },
  {
   "cell_type": "code",
   "execution_count": 13,
   "metadata": {},
   "outputs": [],
   "source": [
    "batch = next(iter(dev_loader))"
   ]
  },
  {
   "cell_type": "markdown",
   "metadata": {},
   "source": [
    "Node 개수와 Relation이 그래프 내에서 어떻게 나타나는가?"
   ]
  },
  {
   "cell_type": "code",
   "execution_count": 26,
   "metadata": {},
   "outputs": [
    {
     "ename": "TypeError",
     "evalue": "unsupported operand type(s) for +: 'int' and 'str'",
     "output_type": "error",
     "traceback": [
      "\u001b[0;31m---------------------------------------------------------------------------\u001b[0m",
      "\u001b[0;31mTypeError\u001b[0m                                 Traceback (most recent call last)",
      "\u001b[0;32m/tmp/ipykernel_2985/1015656433.py\u001b[0m in \u001b[0;36m<module>\u001b[0;34m\u001b[0m\n\u001b[0;32m----> 1\u001b[0;31m \u001b[0msum\u001b[0m\u001b[0;34m(\u001b[0m\u001b[0mbatch\u001b[0m\u001b[0;34m.\u001b[0m\u001b[0minputs\u001b[0m\u001b[0;34m)\u001b[0m\u001b[0;34m\u001b[0m\u001b[0;34m\u001b[0m\u001b[0m\n\u001b[0m",
      "\u001b[0;31mTypeError\u001b[0m: unsupported operand type(s) for +: 'int' and 'str'"
     ]
    }
   ],
   "source": [
    "sum(batch.inputs)"
   ]
  },
  {
   "cell_type": "code",
   "execution_count": 30,
   "metadata": {},
   "outputs": [],
   "source": [
    "example_one = batch.examples[0]"
   ]
  },
  {
   "cell_type": "code",
   "execution_count": 43,
   "metadata": {},
   "outputs": [
    {
     "name": "stdout",
     "output_type": "stream",
     "text": [
      "Input IDs: 33\n",
      "Global Graph\n",
      "Graph(num_nodes=33, num_edges=1089,\n",
      "      ndata_schemes={}\n",
      "      edata_schemes={})\n",
      "Local Graph\n",
      "Graph(num_nodes=33, num_edges=428,\n",
      "      ndata_schemes={}\n",
      "      edata_schemes={})\n"
     ]
    }
   ],
   "source": [
    "print(f'Input IDs: {len(set(example_one.input_id))}')\n",
    "\n",
    "print('Global Graph')\n",
    "print(example_one.graph.global_g)\n",
    "\n",
    "print('Local Graph')\n",
    "print(example_one.graph.local_g)"
   ]
  },
  {
   "cell_type": "code",
   "execution_count": 45,
   "metadata": {},
   "outputs": [],
   "source": [
    "example_two = batch.examples[2]"
   ]
  },
  {
   "cell_type": "code",
   "execution_count": 46,
   "metadata": {},
   "outputs": [
    {
     "name": "stdout",
     "output_type": "stream",
     "text": [
      "Input IDs: 39\n",
      "Global Graph\n",
      "Graph(num_nodes=45, num_edges=2025,\n",
      "      ndata_schemes={}\n",
      "      edata_schemes={})\n",
      "Local Graph\n",
      "Graph(num_nodes=45, num_edges=1076,\n",
      "      ndata_schemes={}\n",
      "      edata_schemes={})\n"
     ]
    }
   ],
   "source": [
    "print(f'Input IDs: {len(set(example_two.input_id))}')\n",
    "\n",
    "print('Global Graph')\n",
    "print(example_two.graph.global_g)\n",
    "\n",
    "print('Local Graph')\n",
    "print(example_two.graph.local_g)"
   ]
  },
  {
   "cell_type": "code",
   "execution_count": null,
   "metadata": {},
   "outputs": [],
   "source": [
    "example_two = batch.examples[2]"
   ]
  },
  {
   "cell_type": "code",
   "execution_count": 50,
   "metadata": {},
   "outputs": [
    {
     "data": {
      "text/plain": [
       "43"
      ]
     },
     "execution_count": 50,
     "metadata": {},
     "output_type": "execute_result"
    }
   ],
   "source": [
    "example_two.relation_vocab.vocab_size"
   ]
  },
  {
   "cell_type": "code",
   "execution_count": 51,
   "metadata": {},
   "outputs": [
    {
     "ename": "AttributeError",
     "evalue": "'Example' object has no attribute 'relation'",
     "output_type": "error",
     "traceback": [
      "\u001b[0;31m---------------------------------------------------------------------------\u001b[0m",
      "\u001b[0;31mAttributeError\u001b[0m                            Traceback (most recent call last)",
      "\u001b[0;32m/tmp/ipykernel_2985/2513291608.py\u001b[0m in \u001b[0;36m<module>\u001b[0;34m\u001b[0m\n\u001b[0;32m----> 1\u001b[0;31m \u001b[0mexample_two\u001b[0m\u001b[0;34m.\u001b[0m\u001b[0mrelation\u001b[0m\u001b[0;34m\u001b[0m\u001b[0;34m\u001b[0m\u001b[0m\n\u001b[0m",
      "\u001b[0;31mAttributeError\u001b[0m: 'Example' object has no attribute 'relation'"
     ]
    }
   ],
   "source": [
    "example_two.relation"
   ]
  },
  {
   "cell_type": "code",
   "execution_count": 60,
   "metadata": {},
   "outputs": [
    {
     "data": {
      "text/plain": [
       "19"
      ]
     },
     "execution_count": 60,
     "metadata": {},
     "output_type": "execute_result"
    }
   ],
   "source": [
    "len(example_two.)"
   ]
  },
  {
   "cell_type": "code",
   "execution_count": 61,
   "metadata": {},
   "outputs": [
    {
     "data": {
      "text/plain": [
       "['show',\n",
       " 'name',\n",
       " ',',\n",
       " 'country',\n",
       " ',',\n",
       " 'age',\n",
       " 'for',\n",
       " 'all',\n",
       " 'singers',\n",
       " 'ordered',\n",
       " 'by',\n",
       " 'age',\n",
       " 'from',\n",
       " 'the',\n",
       " 'oldest',\n",
       " 'to',\n",
       " 'the',\n",
       " 'youngest',\n",
       " '.']"
      ]
     },
     "execution_count": 61,
     "metadata": {},
     "output_type": "execute_result"
    }
   ],
   "source": [
    "example_two.question"
   ]
  },
  {
   "cell_type": "code",
   "execution_count": 59,
   "metadata": {},
   "outputs": [
    {
     "data": {
      "text/plain": [
       "Graph(num_nodes=45, num_edges=2025,\n",
       "      ndata_schemes={}\n",
       "      edata_schemes={})"
      ]
     },
     "execution_count": 59,
     "metadata": {},
     "output_type": "execute_result"
    }
   ],
   "source": [
    "example_two.graph.global_g"
   ]
  },
  {
   "cell_type": "code",
   "execution_count": null,
   "metadata": {},
   "outputs": [],
   "source": []
  }
 ],
 "metadata": {
  "kernelspec": {
   "display_name": "Python 3 (ipykernel)",
   "language": "python",
   "name": "python3"
  },
  "language_info": {
   "codemirror_mode": {
    "name": "ipython",
    "version": 3
   },
   "file_extension": ".py",
   "mimetype": "text/x-python",
   "name": "python",
   "nbconvert_exporter": "python",
   "pygments_lexer": "ipython3",
   "version": "3.7.11"
  },
  "orig_nbformat": 4
 },
 "nbformat": 4,
 "nbformat_minor": 2
}
