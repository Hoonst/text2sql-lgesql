{
 "cells": [
  {
   "cell_type": "code",
   "execution_count": 1,
   "metadata": {},
   "outputs": [],
   "source": [
    "import os, pickle, json"
   ]
  },
  {
   "cell_type": "code",
   "execution_count": 2,
   "metadata": {},
   "outputs": [],
   "source": [
    "method = 'lgesql'\n",
    "choice = 'dev'\n",
    "\n",
    "fp = os.path.join('data', choice + '.' + method + '.bin')\n",
    "datasets = pickle.load(open(fp, 'rb'))"
   ]
  },
  {
   "cell_type": "code",
   "execution_count": 6,
   "metadata": {},
   "outputs": [],
   "source": [
    "data = datasets[0]"
   ]
  },
  {
   "cell_type": "code",
   "execution_count": 10,
   "metadata": {},
   "outputs": [
    {
     "data": {
      "text/plain": [
       "dict_keys(['db_id', 'query', 'query_toks', 'query_toks_no_value', 'question', 'question_toks', 'sql', 'raw_question_toks', 'processed_question_toks', 'pos_tags', 'relations', 'schema_linking', 'used_tables', 'used_columns', 'ast', 'actions', 'graph'])"
      ]
     },
     "execution_count": 10,
     "metadata": {},
     "output_type": "execute_result"
    }
   ],
   "source": [
    "data.keys()"
   ]
  },
  {
   "cell_type": "code",
   "execution_count": 20,
   "metadata": {},
   "outputs": [
    {
     "data": {
      "text/plain": [
       "sql -> Single(sql_unit sql_unit)"
      ]
     },
     "execution_count": 20,
     "metadata": {},
     "output_type": "execute_result"
    }
   ],
   "source": [
    "data['ast']"
   ]
  },
  {
   "cell_type": "code",
   "execution_count": 22,
   "metadata": {},
   "outputs": [],
   "source": [
    "MAX_RELATIVE_DIST = 2\n",
    "\n",
    "RELATIONS = ['question-question-dist' + str(i) if i != 0 else 'question-question-identity' for i in range(- MAX_RELATIVE_DIST, MAX_RELATIVE_DIST + 1)] + \\\n",
    "    ['table-table-identity', 'table-table-fk', 'table-table-fkr', 'table-table-fkb'] + \\\n",
    "    ['column-column-identity', 'column-column-sametable', 'column-column-fk', 'column-column-fkr'] + \\\n",
    "    ['table-column-pk', 'column-table-pk', 'table-column-has', 'column-table-has'] + \\\n",
    "    ['question-column-exactmatch', 'question-column-partialmatch', 'question-column-nomatch', 'question-column-valuematch',\n",
    "    'column-question-exactmatch', 'column-question-partialmatch', 'column-question-nomatch', 'column-question-valuematch'] + \\\n",
    "    ['question-table-exactmatch', 'question-table-partialmatch', 'question-table-nomatch',\n",
    "    'table-question-exactmatch', 'table-question-partialmatch', 'table-question-nomatch'] + \\\n",
    "    ['question-question-generic', 'table-table-generic', 'column-column-generic', 'table-column-generic', 'column-table-generic'] + \\\n",
    "    ['*-*-identity', '*-question-generic', 'question-*-generic', '*-table-generic', 'table-*-generic', '*-column-generic', 'column-*-generic']"
   ]
  },
  {
   "cell_type": "code",
   "execution_count": 25,
   "metadata": {},
   "outputs": [
    {
     "data": {
      "text/plain": [
       "43"
      ]
     },
     "execution_count": 25,
     "metadata": {},
     "output_type": "execute_result"
    }
   ],
   "source": [
    "len(RELATIONS)"
   ]
  },
  {
   "cell_type": "code",
   "execution_count": 26,
   "metadata": {},
   "outputs": [
    {
     "data": {
      "text/plain": [
       "['question-question-dist-2',\n",
       " 'question-question-dist-1',\n",
       " 'question-question-identity',\n",
       " 'question-question-dist1',\n",
       " 'question-question-dist2',\n",
       " 'table-table-identity',\n",
       " 'table-table-fk',\n",
       " 'table-table-fkr',\n",
       " 'table-table-fkb',\n",
       " 'column-column-identity',\n",
       " 'column-column-sametable',\n",
       " 'column-column-fk',\n",
       " 'column-column-fkr',\n",
       " 'table-column-pk',\n",
       " 'column-table-pk',\n",
       " 'table-column-has',\n",
       " 'column-table-has',\n",
       " 'question-column-exactmatch',\n",
       " 'question-column-partialmatch',\n",
       " 'question-column-nomatch',\n",
       " 'question-column-valuematch',\n",
       " 'column-question-exactmatch',\n",
       " 'column-question-partialmatch',\n",
       " 'column-question-nomatch',\n",
       " 'column-question-valuematch',\n",
       " 'question-table-exactmatch',\n",
       " 'question-table-partialmatch',\n",
       " 'question-table-nomatch',\n",
       " 'table-question-exactmatch',\n",
       " 'table-question-partialmatch',\n",
       " 'table-question-nomatch',\n",
       " 'question-question-generic',\n",
       " 'table-table-generic',\n",
       " 'column-column-generic',\n",
       " 'table-column-generic',\n",
       " 'column-table-generic',\n",
       " '*-*-identity',\n",
       " '*-question-generic',\n",
       " 'question-*-generic',\n",
       " '*-table-generic',\n",
       " 'table-*-generic',\n",
       " '*-column-generic',\n",
       " 'column-*-generic']"
      ]
     },
     "execution_count": 26,
     "metadata": {},
     "output_type": "execute_result"
    }
   ],
   "source": [
    "RELATIONS"
   ]
  },
  {
   "cell_type": "code",
   "execution_count": 30,
   "metadata": {},
   "outputs": [],
   "source": [
    "nonlocal_relations = [\n",
    "    'question-question-generic', 'table-table-generic', 'column-column-generic', 'table-column-generic', 'column-table-generic',\n",
    "    'table-table-fk', 'table-table-fkr', 'table-table-fkb', 'column-column-sametable',\n",
    "    '*-column-generic', 'column-*-generic', '*-*-identity', '*-table-generic',\n",
    "    'question-question-identity', 'table-table-identity', 'column-column-identity'] + [\n",
    "    'question-question-dist' + str(i) for i in range(- MAX_RELATIVE_DIST, MAX_RELATIVE_DIST + 1, 1) if i not in [-1, 0, 1]\n",
    "]"
   ]
  },
  {
   "cell_type": "code",
   "execution_count": 35,
   "metadata": {},
   "outputs": [],
   "source": [
    "local_relations = [i for i in RELATIONS if i not in nonlocal_relations]"
   ]
  },
  {
   "cell_type": "code",
   "execution_count": 36,
   "metadata": {},
   "outputs": [
    {
     "data": {
      "text/plain": [
       "['question-question-dist-1',\n",
       " 'question-question-dist1',\n",
       " 'column-column-fk',\n",
       " 'column-column-fkr',\n",
       " 'table-column-pk',\n",
       " 'column-table-pk',\n",
       " 'table-column-has',\n",
       " 'column-table-has',\n",
       " 'question-column-exactmatch',\n",
       " 'question-column-partialmatch',\n",
       " 'question-column-nomatch',\n",
       " 'question-column-valuematch',\n",
       " 'column-question-exactmatch',\n",
       " 'column-question-partialmatch',\n",
       " 'column-question-nomatch',\n",
       " 'column-question-valuematch',\n",
       " 'question-table-exactmatch',\n",
       " 'question-table-partialmatch',\n",
       " 'question-table-nomatch',\n",
       " 'table-question-exactmatch',\n",
       " 'table-question-partialmatch',\n",
       " 'table-question-nomatch',\n",
       " '*-question-generic',\n",
       " 'question-*-generic',\n",
       " 'table-*-generic']"
      ]
     },
     "execution_count": 36,
     "metadata": {},
     "output_type": "execute_result"
    }
   ],
   "source": [
    "local_relations"
   ]
  },
  {
   "cell_type": "code",
   "execution_count": 37,
   "metadata": {},
   "outputs": [],
   "source": [
    "import os"
   ]
  },
  {
   "cell_type": "code",
   "execution_count": 39,
   "metadata": {},
   "outputs": [],
   "source": [
    "bins = os.listdir('exp/task_lgesql_large__model_lgesql_view_mmc_gp_0.15/plm_google/electra-large-discriminator__gnn_512_x_8__share__bs_20__bm_5__seed_999__local_d_edge_0.0__global_d_edge_0.0')"
   ]
  },
  {
   "cell_type": "code",
   "execution_count": 54,
   "metadata": {},
   "outputs": [],
   "source": [
    "import glob\n",
    "\n",
    "folder = 'exp/task_lgesql_large__model_lgesql_view_mmc_gp_0.15/plm_google/electra-large-discriminator__gnn_512_x_8__share__bs_20__bm_5__seed_999__local_d_edge_0.0__global_d_edge_0.0'"
   ]
  },
  {
   "cell_type": "code",
   "execution_count": 56,
   "metadata": {},
   "outputs": [
    {
     "data": {
      "text/plain": [
       "'exp/task_lgesql_large__model_lgesql_view_mmc_gp_0.15/plm_google/electra-large-discriminator__gnn_512_x_8__share__bs_20__bm_5__seed_999__local_d_edge_0.0__global_d_edge_0.0/model_epoch_180.bin'"
      ]
     },
     "execution_count": 56,
     "metadata": {},
     "output_type": "execute_result"
    }
   ],
   "source": [
    "sorted(glob.glob(folder + '/*.bin'))[-1]"
   ]
  },
  {
   "cell_type": "code",
   "execution_count": null,
   "metadata": {},
   "outputs": [],
   "source": []
  },
  {
   "cell_type": "code",
   "execution_count": 49,
   "metadata": {},
   "outputs": [
    {
     "name": "stdout",
     "output_type": "stream",
     "text": [
      "[60, 80, 100, 120, 140, 160, 180, 200, 220, 240, 260, 280]\n"
     ]
    }
   ],
   "source": [
    "start = 60\n",
    "end = 300\n",
    "\n",
    "print(list(range(start, end, 20)))"
   ]
  },
  {
   "cell_type": "code",
   "execution_count": 52,
   "metadata": {},
   "outputs": [],
   "source": [
    "i =20\n",
    "\n",
    "i_length = 4\n",
    "zeros = '0' * (i_length - len(str(i)))\n",
    "new_i = zeros + str(i)"
   ]
  },
  {
   "cell_type": "code",
   "execution_count": 53,
   "metadata": {},
   "outputs": [
    {
     "data": {
      "text/plain": [
       "'0020'"
      ]
     },
     "execution_count": 53,
     "metadata": {},
     "output_type": "execute_result"
    }
   ],
   "source": [
    "new_i"
   ]
  },
  {
   "cell_type": "code",
   "execution_count": null,
   "metadata": {},
   "outputs": [],
   "source": []
  }
 ],
 "metadata": {
  "kernelspec": {
   "display_name": "Python 3 (ipykernel)",
   "language": "python",
   "name": "python3"
  },
  "language_info": {
   "codemirror_mode": {
    "name": "ipython",
    "version": 3
   },
   "file_extension": ".py",
   "mimetype": "text/x-python",
   "name": "python",
   "nbconvert_exporter": "python",
   "pygments_lexer": "ipython3",
   "version": "3.7.11"
  },
  "orig_nbformat": 4
 },
 "nbformat": 4,
 "nbformat_minor": 2
}
