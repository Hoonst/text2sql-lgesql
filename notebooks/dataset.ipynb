{
 "cells": [
  {
   "cell_type": "code",
   "execution_count": 1,
   "metadata": {},
   "outputs": [],
   "source": [
    "import os, pickle, json"
   ]
  },
  {
   "cell_type": "code",
   "execution_count": 2,
   "metadata": {},
   "outputs": [],
   "source": [
    "method = 'lgesql'\n",
    "choice = 'dev'\n",
    "\n",
    "fp = os.path.join('data', choice + '.' + method + '.bin')\n",
    "datasets = pickle.load(open(fp, 'rb'))"
   ]
  },
  {
   "cell_type": "code",
   "execution_count": 6,
   "metadata": {},
   "outputs": [],
   "source": [
    "data = datasets[0]"
   ]
  },
  {
   "cell_type": "code",
   "execution_count": 10,
   "metadata": {},
   "outputs": [
    {
     "data": {
      "text/plain": [
       "dict_keys(['db_id', 'query', 'query_toks', 'query_toks_no_value', 'question', 'question_toks', 'sql', 'raw_question_toks', 'processed_question_toks', 'pos_tags', 'relations', 'schema_linking', 'used_tables', 'used_columns', 'ast', 'actions', 'graph'])"
      ]
     },
     "execution_count": 10,
     "metadata": {},
     "output_type": "execute_result"
    }
   ],
   "source": [
    "data.keys()"
   ]
  },
  {
   "cell_type": "code",
   "execution_count": 20,
   "metadata": {},
   "outputs": [
    {
     "data": {
      "text/plain": [
       "sql -> Single(sql_unit sql_unit)"
      ]
     },
     "execution_count": 20,
     "metadata": {},
     "output_type": "execute_result"
    }
   ],
   "source": [
    "data['ast']"
   ]
  },
  {
   "cell_type": "code",
   "execution_count": 22,
   "metadata": {},
   "outputs": [],
   "source": [
    "MAX_RELATIVE_DIST = 2\n",
    "\n",
    "RELATIONS = ['question-question-dist' + str(i) if i != 0 else 'question-question-identity' for i in range(- MAX_RELATIVE_DIST, MAX_RELATIVE_DIST + 1)] + \\\n",
    "    ['table-table-identity', 'table-table-fk', 'table-table-fkr', 'table-table-fkb'] + \\\n",
    "    ['column-column-identity', 'column-column-sametable', 'column-column-fk', 'column-column-fkr'] + \\\n",
    "    ['table-column-pk', 'column-table-pk', 'table-column-has', 'column-table-has'] + \\\n",
    "    ['question-column-exactmatch', 'question-column-partialmatch', 'question-column-nomatch', 'question-column-valuematch',\n",
    "    'column-question-exactmatch', 'column-question-partialmatch', 'column-question-nomatch', 'column-question-valuematch'] + \\\n",
    "    ['question-table-exactmatch', 'question-table-partialmatch', 'question-table-nomatch',\n",
    "    'table-question-exactmatch', 'table-question-partialmatch', 'table-question-nomatch'] + \\\n",
    "    ['question-question-generic', 'table-table-generic', 'column-column-generic', 'table-column-generic', 'column-table-generic'] + \\\n",
    "    ['*-*-identity', '*-question-generic', 'question-*-generic', '*-table-generic', 'table-*-generic', '*-column-generic', 'column-*-generic']"
   ]
  },
  {
   "cell_type": "code",
   "execution_count": 25,
   "metadata": {},
   "outputs": [
    {
     "data": {
      "text/plain": [
       "43"
      ]
     },
     "execution_count": 25,
     "metadata": {},
     "output_type": "execute_result"
    }
   ],
   "source": [
    "len(RELATIONS)"
   ]
  },
  {
   "cell_type": "code",
   "execution_count": 30,
   "metadata": {},
   "outputs": [],
   "source": [
    "nonlocal_relations = [\n",
    "    'question-question-generic', 'table-table-generic', 'column-column-generic', 'table-column-generic', 'column-table-generic',\n",
    "    'table-table-fk', 'table-table-fkr', 'table-table-fkb', 'column-column-sametable',\n",
    "    '*-column-generic', 'column-*-generic', '*-*-identity', '*-table-generic',\n",
    "    'question-question-identity', 'table-table-identity', 'column-column-identity'] + [\n",
    "    'question-question-dist' + str(i) for i in range(- MAX_RELATIVE_DIST, MAX_RELATIVE_DIST + 1, 1) if i not in [-1, 0, 1]\n",
    "]"
   ]
  },
  {
   "cell_type": "code",
   "execution_count": 35,
   "metadata": {},
   "outputs": [],
   "source": [
    "local_relations = [i for i in RELATIONS if i not in nonlocal_relations]"
   ]
  },
  {
   "cell_type": "code",
   "execution_count": 37,
   "metadata": {},
   "outputs": [],
   "source": [
    "import os"
   ]
  },
  {
   "cell_type": "code",
   "execution_count": 39,
   "metadata": {},
   "outputs": [],
   "source": [
    "bins = os.listdir('exp/task_lgesql_large__model_lgesql_view_mmc_gp_0.15/plm_google/electra-large-discriminator__gnn_512_x_8__share__bs_20__bm_5__seed_999__local_d_edge_0.0__global_d_edge_0.0')"
   ]
  },
  {
   "cell_type": "code",
   "execution_count": 59,
   "metadata": {},
   "outputs": [],
   "source": [
    "import glob\n",
    "\n",
    "folder = 'exp/task_lgesql_large__model_lgesql_view_mmc_gp_0.15/plm_google/electra-large-discriminator__gnn_512_x_8__share__bs_20__bm_5__seed_999__local_d_edge_0.0__global_d_edge_0.0'"
   ]
  },
  {
   "cell_type": "code",
   "execution_count": 61,
   "metadata": {},
   "outputs": [
    {
     "data": {
      "text/plain": [
       "['exp/task_lgesql_large__model_lgesql_view_mmc_gp_0.15/plm_google/electra-large-discriminator__gnn_512_x_8__share__bs_20__bm_5__seed_999__local_d_edge_0.0__global_d_edge_0.0/dev.iter0060.txt',\n",
       " 'exp/task_lgesql_large__model_lgesql_view_mmc_gp_0.15/plm_google/electra-large-discriminator__gnn_512_x_8__share__bs_20__bm_5__seed_999__local_d_edge_0.0__global_d_edge_0.0/dev.iter0080.txt',\n",
       " 'exp/task_lgesql_large__model_lgesql_view_mmc_gp_0.15/plm_google/electra-large-discriminator__gnn_512_x_8__share__bs_20__bm_5__seed_999__local_d_edge_0.0__global_d_edge_0.0/dev.iter0100.txt',\n",
       " 'exp/task_lgesql_large__model_lgesql_view_mmc_gp_0.15/plm_google/electra-large-discriminator__gnn_512_x_8__share__bs_20__bm_5__seed_999__local_d_edge_0.0__global_d_edge_0.0/dev.iter0120.txt',\n",
       " 'exp/task_lgesql_large__model_lgesql_view_mmc_gp_0.15/plm_google/electra-large-discriminator__gnn_512_x_8__share__bs_20__bm_5__seed_999__local_d_edge_0.0__global_d_edge_0.0/dev.iter0140.txt',\n",
       " 'exp/task_lgesql_large__model_lgesql_view_mmc_gp_0.15/plm_google/electra-large-discriminator__gnn_512_x_8__share__bs_20__bm_5__seed_999__local_d_edge_0.0__global_d_edge_0.0/dev.iter0160.txt',\n",
       " 'exp/task_lgesql_large__model_lgesql_view_mmc_gp_0.15/plm_google/electra-large-discriminator__gnn_512_x_8__share__bs_20__bm_5__seed_999__local_d_edge_0.0__global_d_edge_0.0/dev.iter0180.txt',\n",
       " 'exp/task_lgesql_large__model_lgesql_view_mmc_gp_0.15/plm_google/electra-large-discriminator__gnn_512_x_8__share__bs_20__bm_5__seed_999__local_d_edge_0.0__global_d_edge_0.0/dev.iter0200.txt',\n",
       " 'exp/task_lgesql_large__model_lgesql_view_mmc_gp_0.15/plm_google/electra-large-discriminator__gnn_512_x_8__share__bs_20__bm_5__seed_999__local_d_edge_0.0__global_d_edge_0.0/dev.iter0220.txt',\n",
       " 'exp/task_lgesql_large__model_lgesql_view_mmc_gp_0.15/plm_google/electra-large-discriminator__gnn_512_x_8__share__bs_20__bm_5__seed_999__local_d_edge_0.0__global_d_edge_0.0/dev.iter0240.txt',\n",
       " 'exp/task_lgesql_large__model_lgesql_view_mmc_gp_0.15/plm_google/electra-large-discriminator__gnn_512_x_8__share__bs_20__bm_5__seed_999__local_d_edge_0.0__global_d_edge_0.0/dev.iter0260.txt',\n",
       " 'exp/task_lgesql_large__model_lgesql_view_mmc_gp_0.15/plm_google/electra-large-discriminator__gnn_512_x_8__share__bs_20__bm_5__seed_999__local_d_edge_0.0__global_d_edge_0.0/dev.iter0280.txt',\n",
       " 'exp/task_lgesql_large__model_lgesql_view_mmc_gp_0.15/plm_google/electra-large-discriminator__gnn_512_x_8__share__bs_20__bm_5__seed_999__local_d_edge_0.0__global_d_edge_0.0/log_train.txt']"
      ]
     },
     "execution_count": 61,
     "metadata": {},
     "output_type": "execute_result"
    }
   ],
   "source": [
    "sorted(glob.glob(folder + '/*.txt'))"
   ]
  },
  {
   "cell_type": "code",
   "execution_count": 49,
   "metadata": {},
   "outputs": [
    {
     "name": "stdout",
     "output_type": "stream",
     "text": [
      "[60, 80, 100, 120, 140, 160, 180, 200, 220, 240, 260, 280]\n"
     ]
    }
   ],
   "source": [
    "start = 60\n",
    "end = 300\n",
    "\n",
    "print(list(range(start, end, 20)))"
   ]
  },
  {
   "cell_type": "code",
   "execution_count": 52,
   "metadata": {},
   "outputs": [],
   "source": [
    "i =20\n",
    "\n",
    "i_length = 4\n",
    "zeros = '0' * (i_length - len(str(i)))\n",
    "new_i = zeros + str(i)"
   ]
  }
 ],
 "metadata": {
  "kernelspec": {
   "display_name": "Python 3 (ipykernel)",
   "language": "python",
   "name": "python3"
  },
  "orig_nbformat": 4
 },
 "nbformat": 4,
 "nbformat_minor": 2
}
