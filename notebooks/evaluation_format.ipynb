{
 "cells": [
  {
   "cell_type": "code",
   "execution_count": 37,
   "metadata": {},
   "outputs": [],
   "source": [
    "import os, glob, json"
   ]
  },
  {
   "cell_type": "code",
   "execution_count": 4,
   "metadata": {},
   "outputs": [],
   "source": [
    "folder = 'exp/task_lgesql_large__model_lgesql_view_mmc_gp_0.15/plm_google/electra-large-discriminator__gnn_512_x_8__share__bs_20__bm_5__seed_999__local_d_edge_0.0__global_d_edge_0.0'"
   ]
  },
  {
   "cell_type": "code",
   "execution_count": 7,
   "metadata": {},
   "outputs": [],
   "source": [
    "txt_files = sorted(glob.glob(folder + '/*.txt'))"
   ]
  },
  {
   "cell_type": "code",
   "execution_count": 8,
   "metadata": {},
   "outputs": [],
   "source": [
    "with open(txt_files[0]) as f:\n",
    "    lines = f.readlines()"
   ]
  },
  {
   "cell_type": "code",
   "execution_count": 17,
   "metadata": {},
   "outputs": [
    {
     "data": {
      "text/plain": [
       "945"
      ]
     },
     "execution_count": 17,
     "metadata": {},
     "output_type": "execute_result"
    }
   ],
   "source": [
    "lines.index('====================== EXACT MATCHING ACCURACY =====================\\n')"
   ]
  },
  {
   "cell_type": "code",
   "execution_count": 27,
   "metadata": {},
   "outputs": [
    {
     "data": {
      "text/plain": [
       "['0.879', '0.709', '0.632', '0.458', '0.696']"
      ]
     },
     "execution_count": 27,
     "metadata": {},
     "output_type": "execute_result"
    }
   ],
   "source": [
    "[i for i in lines[946].strip().replace('exact match', '').split(' ') if i != '']"
   ]
  },
  {
   "cell_type": "code",
   "execution_count": 32,
   "metadata": {},
   "outputs": [],
   "source": [
    "txt_files = sorted(glob.glob(folder + '/*.txt'))\n"
   ]
  },
  {
   "cell_type": "code",
   "execution_count": 36,
   "metadata": {},
   "outputs": [
    {
     "data": {
      "text/plain": [
       "'iter0060'"
      ]
     },
     "execution_count": 36,
     "metadata": {},
     "output_type": "execute_result"
    }
   ],
   "source": [
    "txt_files[0][-12:].split('.')[0]"
   ]
  },
  {
   "cell_type": "code",
   "execution_count": 44,
   "metadata": {},
   "outputs": [],
   "source": [
    "folder = 'exp/task_lgesql_large__model_lgesql_view_mmc_gp_0.15/plm_google/electra-large-discriminator__gnn_512_x_8__share__bs_20__bm_5__seed_999__local_d_edge_0.0__global_d_edge_0.0'\n",
    "\n",
    "txt_files = sorted(glob.glob(folder + '/*.txt'))[:-1]\n",
    "\n",
    "total_dic = {}\n",
    "max_overall = 0\n",
    "max_dic = {}\n",
    "max_name = 'iter'\n",
    "for txt_file in txt_files:\n",
    "    iter_name = txt_file[-12:].split('.')[0]\n",
    "\n",
    "    with open(txt_file) as f:\n",
    "        lines = f.readlines()\n",
    "    here = lines.index('====================== EXACT MATCHING ACCURACY =====================\\n')+1\n",
    "    result = [i for i in lines[here].strip().replace('exact match', '').split(' ') if i != '']\n",
    "\n",
    "    dic = {'easy': 0, 'medium': 0, 'hard': 0, 'extra_hard': 0, 'overall': 0}\n",
    "    dic_keys = ['easy', 'medium', 'hard', 'extra_hard', 'overall']\n",
    "    for element, k in zip(result, dic_keys):\n",
    "        dic[k] = element\n",
    "\n",
    "    if float(dic['overall']) > float(max_overall):\n",
    "        max_overall = dic['overall']\n",
    "        max_dic = dic\n",
    "        max_dic['iter_name'] = iter_name\n",
    "\n",
    "    total_dic[iter_name] = dic\n",
    "\n",
    "total_dic['Best_Performance'] = max_dic\n",
    "\n",
    "folder = f'exp_results/{folder}'\n",
    "fileName = f'{folder}/result.json'\n",
    "\n",
    "if not os.path.exists(folder):\n",
    "    os.makedirs(folder)\n",
    "\n",
    "with open(fileName, 'w') as fp:\n",
    "    json.dump(total_dic, fp, indent=4)\n"
   ]
  },
  {
   "cell_type": "code",
   "execution_count": null,
   "metadata": {},
   "outputs": [],
   "source": []
  }
 ],
 "metadata": {
  "kernelspec": {
   "display_name": "Python 3 (ipykernel)",
   "language": "python",
   "name": "python3"
  },
  "orig_nbformat": 4
 },
 "nbformat": 4,
 "nbformat_minor": 2
}
